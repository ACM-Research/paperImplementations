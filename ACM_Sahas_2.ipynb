{
  "nbformat": 4,
  "nbformat_minor": 0,
  "metadata": {
    "colab": {
      "provenance": []
    },
    "kernelspec": {
      "name": "python3",
      "display_name": "Python 3"
    },
    "language_info": {
      "name": "python"
    }
  },
  "cells": [
    {
      "cell_type": "code",
      "execution_count": 67,
      "metadata": {
        "id": "bC0AtrxofbhZ"
      },
      "outputs": [],
      "source": [
        "import numpy as np\n",
        "import os\n",
        "import pandas as pd\n",
        "import seaborn as sns\n",
        "import matplotlib.pyplot as plt\n",
        "from sklearn.preprocessing import MinMaxScaler\n",
        "import requests"
      ]
    },
    {
      "cell_type": "code",
      "source": [
        "def download_url(url, save_path, chunk_size=128):\n",
        "    r = requests.get(url, stream=True)\n",
        "    with open(save_path, 'wb') as fd:\n",
        "        for chunk in r.iter_content(chunk_size=chunk_size):\n",
        "            fd.write(chunk)"
      ],
      "metadata": {
        "id": "-AWs-Y7JgaFU"
      },
      "execution_count": 68,
      "outputs": []
    },
    {
      "cell_type": "code",
      "source": [
        "train_url = \"https://raw.githubusercontent.com/sudhakarnraju/stockprice/master/Google_Stock_Price_Train.csv\"\n",
        "test_url = \"https://raw.githubusercontent.com/raj-shah14/Predicting-Google-Stock-Prices/master/Google_Stock_Price_Test.csv\""
      ],
      "metadata": {
        "id": "2em4HJ7ywl-L"
      },
      "execution_count": 69,
      "outputs": []
    },
    {
      "cell_type": "code",
      "source": [
        "os.makedirs('Dataset', exist_ok=True)\n",
        "download_url(train_url, 'Dataset/Google_Stock_Price_Train.csv')\n",
        "download_url(test_url, 'Dataset/Google_Stock_Price_Test.csv')"
      ],
      "metadata": {
        "id": "j9KszLuHxRKb"
      },
      "execution_count": 70,
      "outputs": []
    },
    {
      "cell_type": "code",
      "source": [
        "training_set = pd.read_csv('Dataset/Google_Stock_Price_Train.csv')\n",
        "test_set = pd.read_csv('Dataset/Google_Stock_Price_Test.csv')"
      ],
      "metadata": {
        "id": "6fiskq1BxYnS"
      },
      "execution_count": 71,
      "outputs": []
    },
    {
      "cell_type": "code",
      "source": [
        "print(training_set.head())\n",
        "print(test_set.head())"
      ],
      "metadata": {
        "colab": {
          "base_uri": "https://localhost:8080/"
        },
        "id": "o5HopuNcxbc1",
        "outputId": "ecf34628-d4b0-44bc-b6b1-3ed11dc9af5b"
      },
      "execution_count": 72,
      "outputs": [
        {
          "output_type": "stream",
          "name": "stdout",
          "text": [
            "       Date    Open    High     Low   Close      Volume\n",
            "0  1/3/2012  325.25  332.83  324.97  663.59   7,380,500\n",
            "1  1/4/2012  331.27  333.87  329.08  666.45   5,749,400\n",
            "2  1/5/2012  329.83  330.75  326.89  657.21   6,590,300\n",
            "3  1/6/2012  328.34  328.77  323.68  648.24   5,405,900\n",
            "4  1/9/2012  322.04  322.29  309.46  620.76  11,688,800\n",
            "        Date    open    high      low   close   volume\n",
            "0  3/15/2017  867.94  869.88  861.295  868.39  1331984\n",
            "1  3/16/2017  870.53  872.71  867.520  870.00  1103990\n",
            "2  3/17/2017  873.68  874.42  868.370  872.37  1852574\n",
            "3  3/20/2017  869.48  870.34  864.665  867.91  1528664\n",
            "4  3/21/2017  870.06  873.47  847.687  850.14  2531086\n"
          ]
        }
      ]
    },
    {
      "cell_type": "code",
      "source": [
        "training_set = training_set.iloc[:, 1:2].values\n",
        "test_set = test_set.iloc[:, 1:2].values"
      ],
      "metadata": {
        "id": "OeCV-cYExkMN"
      },
      "execution_count": 73,
      "outputs": []
    },
    {
      "cell_type": "code",
      "source": [
        "sc = MinMaxScaler(feature_range=(0, 1))\n",
        "training_set_scaled = sc.fit_transform(training_set)"
      ],
      "metadata": {
        "id": "Ro-LuU9VxrON"
      },
      "execution_count": 74,
      "outputs": []
    },
    {
      "cell_type": "code",
      "source": [
        "X_train = []\n",
        "y_train = []\n",
        "for i in range(60, len(training_set_scaled)):\n",
        "    X_train.append(training_set_scaled[i-60:i, 0])\n",
        "    y_train.append(training_set_scaled[i, 0])\n",
        "X_train, y_train = np.array(X_train), np.array(y_train)\n",
        "X_train = np.reshape(X_train, (X_train.shape[0], X_train.shape[1], 1))"
      ],
      "metadata": {
        "id": "uGmj5fCnxtio"
      },
      "execution_count": 76,
      "outputs": []
    },
    {
      "cell_type": "code",
      "source": [
        "model = Sequential()\n",
        "model.add(LSTM(units=50, return_sequences=True, input_shape=(X_train.shape[1], 1)))\n",
        "model.add(LSTM(units=50))\n",
        "model.add(Dense(units=1))\n",
        "model.compile(optimizer='adam', loss='mean_squared_error')"
      ],
      "metadata": {
        "id": "i3IzhRQaxxd6"
      },
      "execution_count": 77,
      "outputs": []
    },
    {
      "cell_type": "code",
      "source": [
        "model.fit(X_train, y_train, epochs=100, batch_size=32)"
      ],
      "metadata": {
        "colab": {
          "base_uri": "https://localhost:8080/"
        },
        "id": "C6-WbCWaxz2J",
        "outputId": "ee58f0d8-1b02-41b0-d059-bf942e7ba3d5"
      },
      "execution_count": 78,
      "outputs": [
        {
          "output_type": "stream",
          "name": "stdout",
          "text": [
            "Epoch 1/100\n",
            "38/38 [==============================] - 7s 48ms/step - loss: 0.0304\n",
            "Epoch 2/100\n",
            "38/38 [==============================] - 2s 47ms/step - loss: 0.0016\n",
            "Epoch 3/100\n",
            "38/38 [==============================] - 2s 48ms/step - loss: 0.0011\n",
            "Epoch 4/100\n",
            "38/38 [==============================] - 2s 49ms/step - loss: 0.0011\n",
            "Epoch 5/100\n",
            "38/38 [==============================] - 3s 80ms/step - loss: 0.0011\n",
            "Epoch 6/100\n",
            "38/38 [==============================] - 2s 53ms/step - loss: 0.0011\n",
            "Epoch 7/100\n",
            "38/38 [==============================] - 2s 49ms/step - loss: 0.0011\n",
            "Epoch 8/100\n",
            "38/38 [==============================] - 2s 48ms/step - loss: 0.0011\n",
            "Epoch 9/100\n",
            "38/38 [==============================] - 2s 49ms/step - loss: 0.0011\n",
            "Epoch 10/100\n",
            "38/38 [==============================] - 2s 49ms/step - loss: 0.0010\n",
            "Epoch 11/100\n",
            "38/38 [==============================] - 2s 62ms/step - loss: 9.8094e-04\n",
            "Epoch 12/100\n",
            "38/38 [==============================] - 3s 70ms/step - loss: 9.6294e-04\n",
            "Epoch 13/100\n",
            "38/38 [==============================] - 2s 48ms/step - loss: 9.3975e-04\n",
            "Epoch 14/100\n",
            "38/38 [==============================] - 2s 48ms/step - loss: 9.2053e-04\n",
            "Epoch 15/100\n",
            "38/38 [==============================] - 2s 48ms/step - loss: 9.2705e-04\n",
            "Epoch 16/100\n",
            "38/38 [==============================] - 2s 48ms/step - loss: 9.0560e-04\n",
            "Epoch 17/100\n",
            "38/38 [==============================] - 2s 47ms/step - loss: 8.4979e-04\n",
            "Epoch 18/100\n",
            "38/38 [==============================] - 3s 74ms/step - loss: 9.4474e-04\n",
            "Epoch 19/100\n",
            "38/38 [==============================] - 2s 53ms/step - loss: 8.5938e-04\n",
            "Epoch 20/100\n",
            "38/38 [==============================] - 2s 48ms/step - loss: 8.1876e-04\n",
            "Epoch 21/100\n",
            "38/38 [==============================] - 2s 48ms/step - loss: 8.0448e-04\n",
            "Epoch 22/100\n",
            "38/38 [==============================] - 2s 48ms/step - loss: 7.9109e-04\n",
            "Epoch 23/100\n",
            "38/38 [==============================] - 2s 48ms/step - loss: 8.4596e-04\n",
            "Epoch 24/100\n",
            "38/38 [==============================] - 2s 57ms/step - loss: 8.4377e-04\n",
            "Epoch 25/100\n",
            "38/38 [==============================] - 3s 71ms/step - loss: 7.8276e-04\n",
            "Epoch 26/100\n",
            "38/38 [==============================] - 2s 47ms/step - loss: 9.7248e-04\n",
            "Epoch 27/100\n",
            "38/38 [==============================] - 2s 47ms/step - loss: 8.0976e-04\n",
            "Epoch 28/100\n",
            "38/38 [==============================] - 2s 48ms/step - loss: 7.4245e-04\n",
            "Epoch 29/100\n",
            "38/38 [==============================] - 2s 48ms/step - loss: 7.3906e-04\n",
            "Epoch 30/100\n",
            "38/38 [==============================] - 2s 48ms/step - loss: 6.9034e-04\n",
            "Epoch 31/100\n",
            "38/38 [==============================] - 3s 74ms/step - loss: 6.8042e-04\n",
            "Epoch 32/100\n",
            "38/38 [==============================] - 2s 52ms/step - loss: 6.9551e-04\n",
            "Epoch 33/100\n",
            "38/38 [==============================] - 2s 48ms/step - loss: 6.5870e-04\n",
            "Epoch 34/100\n",
            "38/38 [==============================] - 2s 48ms/step - loss: 7.2660e-04\n",
            "Epoch 35/100\n",
            "38/38 [==============================] - 2s 48ms/step - loss: 6.6315e-04\n",
            "Epoch 36/100\n",
            "38/38 [==============================] - 2s 47ms/step - loss: 6.8217e-04\n",
            "Epoch 37/100\n",
            "38/38 [==============================] - 2s 60ms/step - loss: 6.7450e-04\n",
            "Epoch 38/100\n",
            "38/38 [==============================] - 3s 69ms/step - loss: 6.7171e-04\n",
            "Epoch 39/100\n",
            "38/38 [==============================] - 2s 48ms/step - loss: 6.3708e-04\n",
            "Epoch 40/100\n",
            "38/38 [==============================] - 2s 49ms/step - loss: 5.8357e-04\n",
            "Epoch 41/100\n",
            "38/38 [==============================] - 2s 48ms/step - loss: 6.3774e-04\n",
            "Epoch 42/100\n",
            "38/38 [==============================] - 2s 48ms/step - loss: 6.4142e-04\n",
            "Epoch 43/100\n",
            "38/38 [==============================] - 2s 48ms/step - loss: 5.4961e-04\n",
            "Epoch 44/100\n",
            "38/38 [==============================] - 3s 78ms/step - loss: 5.5735e-04\n",
            "Epoch 45/100\n",
            "38/38 [==============================] - 2s 49ms/step - loss: 5.3972e-04\n",
            "Epoch 46/100\n",
            "38/38 [==============================] - 2s 48ms/step - loss: 5.3234e-04\n",
            "Epoch 47/100\n",
            "38/38 [==============================] - 2s 47ms/step - loss: 5.1866e-04\n",
            "Epoch 48/100\n",
            "38/38 [==============================] - 2s 48ms/step - loss: 5.0925e-04\n",
            "Epoch 49/100\n",
            "38/38 [==============================] - 2s 47ms/step - loss: 4.8760e-04\n",
            "Epoch 50/100\n",
            "38/38 [==============================] - 2s 63ms/step - loss: 5.5891e-04\n",
            "Epoch 51/100\n",
            "38/38 [==============================] - 3s 66ms/step - loss: 4.9715e-04\n",
            "Epoch 52/100\n",
            "38/38 [==============================] - 2s 48ms/step - loss: 5.1085e-04\n",
            "Epoch 53/100\n",
            "38/38 [==============================] - 2s 48ms/step - loss: 4.5713e-04\n",
            "Epoch 54/100\n",
            "38/38 [==============================] - 2s 48ms/step - loss: 4.4751e-04\n",
            "Epoch 55/100\n",
            "38/38 [==============================] - 2s 49ms/step - loss: 4.4154e-04\n",
            "Epoch 56/100\n",
            "38/38 [==============================] - 2s 49ms/step - loss: 4.6510e-04\n",
            "Epoch 57/100\n",
            "38/38 [==============================] - 3s 80ms/step - loss: 4.4464e-04\n",
            "Epoch 58/100\n",
            "38/38 [==============================] - 2s 49ms/step - loss: 4.3349e-04\n",
            "Epoch 59/100\n",
            "38/38 [==============================] - 2s 49ms/step - loss: 4.8000e-04\n",
            "Epoch 60/100\n",
            "38/38 [==============================] - 2s 48ms/step - loss: 4.5678e-04\n",
            "Epoch 61/100\n",
            "38/38 [==============================] - 2s 47ms/step - loss: 4.3629e-04\n",
            "Epoch 62/100\n",
            "38/38 [==============================] - 2s 49ms/step - loss: 4.5257e-04\n",
            "Epoch 63/100\n",
            "38/38 [==============================] - 3s 66ms/step - loss: 4.2097e-04\n",
            "Epoch 64/100\n",
            "38/38 [==============================] - 2s 63ms/step - loss: 4.3687e-04\n",
            "Epoch 65/100\n",
            "38/38 [==============================] - 2s 48ms/step - loss: 4.3396e-04\n",
            "Epoch 66/100\n",
            "38/38 [==============================] - 2s 48ms/step - loss: 4.0038e-04\n",
            "Epoch 67/100\n",
            "38/38 [==============================] - 2s 47ms/step - loss: 3.8167e-04\n",
            "Epoch 68/100\n",
            "38/38 [==============================] - 2s 48ms/step - loss: 3.9884e-04\n",
            "Epoch 69/100\n",
            "38/38 [==============================] - 2s 51ms/step - loss: 3.8541e-04\n",
            "Epoch 70/100\n",
            "38/38 [==============================] - 3s 80ms/step - loss: 4.4363e-04\n",
            "Epoch 71/100\n",
            "38/38 [==============================] - 2s 49ms/step - loss: 3.6390e-04\n",
            "Epoch 72/100\n",
            "38/38 [==============================] - 2s 47ms/step - loss: 4.1489e-04\n",
            "Epoch 73/100\n",
            "38/38 [==============================] - 2s 47ms/step - loss: 3.5932e-04\n",
            "Epoch 74/100\n",
            "38/38 [==============================] - 2s 48ms/step - loss: 4.2113e-04\n",
            "Epoch 75/100\n",
            "38/38 [==============================] - 2s 48ms/step - loss: 3.5753e-04\n",
            "Epoch 76/100\n",
            "38/38 [==============================] - 2s 61ms/step - loss: 3.3438e-04\n",
            "Epoch 77/100\n",
            "38/38 [==============================] - 3s 66ms/step - loss: 3.9453e-04\n",
            "Epoch 78/100\n",
            "38/38 [==============================] - 2s 48ms/step - loss: 3.5126e-04\n",
            "Epoch 79/100\n",
            "38/38 [==============================] - 2s 47ms/step - loss: 3.4246e-04\n",
            "Epoch 80/100\n",
            "38/38 [==============================] - 2s 49ms/step - loss: 3.4970e-04\n",
            "Epoch 81/100\n",
            "38/38 [==============================] - 2s 48ms/step - loss: 3.4119e-04\n",
            "Epoch 82/100\n",
            "38/38 [==============================] - 2s 47ms/step - loss: 3.5419e-04\n",
            "Epoch 83/100\n",
            "38/38 [==============================] - 3s 79ms/step - loss: 3.2039e-04\n",
            "Epoch 84/100\n",
            "38/38 [==============================] - 2s 48ms/step - loss: 3.3357e-04\n",
            "Epoch 85/100\n",
            "38/38 [==============================] - 2s 49ms/step - loss: 3.2690e-04\n",
            "Epoch 86/100\n",
            "38/38 [==============================] - 2s 46ms/step - loss: 3.2267e-04\n",
            "Epoch 87/100\n",
            "38/38 [==============================] - 2s 47ms/step - loss: 3.0974e-04\n",
            "Epoch 88/100\n",
            "38/38 [==============================] - 2s 48ms/step - loss: 3.7718e-04\n",
            "Epoch 89/100\n",
            "38/38 [==============================] - 3s 67ms/step - loss: 3.1817e-04\n",
            "Epoch 90/100\n",
            "38/38 [==============================] - 2s 63ms/step - loss: 2.9500e-04\n",
            "Epoch 91/100\n",
            "38/38 [==============================] - 2s 49ms/step - loss: 3.1149e-04\n",
            "Epoch 92/100\n",
            "38/38 [==============================] - 2s 48ms/step - loss: 3.0827e-04\n",
            "Epoch 93/100\n",
            "38/38 [==============================] - 2s 48ms/step - loss: 3.5495e-04\n",
            "Epoch 94/100\n",
            "38/38 [==============================] - 2s 48ms/step - loss: 2.9671e-04\n",
            "Epoch 95/100\n",
            "38/38 [==============================] - 2s 53ms/step - loss: 2.9150e-04\n",
            "Epoch 96/100\n",
            "38/38 [==============================] - 3s 79ms/step - loss: 3.7709e-04\n",
            "Epoch 97/100\n",
            "38/38 [==============================] - 2s 49ms/step - loss: 3.7253e-04\n",
            "Epoch 98/100\n",
            "38/38 [==============================] - 2s 47ms/step - loss: 2.8304e-04\n",
            "Epoch 99/100\n",
            "38/38 [==============================] - 2s 48ms/step - loss: 3.1636e-04\n",
            "Epoch 100/100\n",
            "38/38 [==============================] - 2s 49ms/step - loss: 3.2031e-04\n"
          ]
        },
        {
          "output_type": "execute_result",
          "data": {
            "text/plain": [
              "<keras.src.callbacks.History at 0x7ba0a89efa30>"
            ]
          },
          "metadata": {},
          "execution_count": 78
        }
      ]
    },
    {
      "cell_type": "code",
      "source": [
        "dataset_total = pd.concat((pd.DataFrame(training_set), pd.DataFrame(test_set)), axis=0)\n",
        "inputs = dataset_total[len(dataset_total) - len(test_set) - 60:].values\n",
        "inputs = inputs.reshape(-1,1)\n",
        "inputs = sc.transform(inputs)\n",
        "\n",
        "X_test = []\n",
        "for i in range(60, 60 + len(test_set)):\n",
        "    X_test.append(inputs[i-60:i, 0])\n",
        "X_test = np.array(X_test)\n",
        "X_test = np.reshape(X_test, (X_test.shape[0], X_test.shape[1], 1))"
      ],
      "metadata": {
        "id": "H2rtwnviy3zA"
      },
      "execution_count": 81,
      "outputs": []
    },
    {
      "cell_type": "code",
      "source": [
        "predicted_stock_price = model.predict(X_test)\n",
        "predicted_stock_price = sc.inverse_transform(predicted_stock_price)"
      ],
      "metadata": {
        "colab": {
          "base_uri": "https://localhost:8080/"
        },
        "id": "r8-VmDKPy8-U",
        "outputId": "f894df0c-ca93-4c73-d839-dbbf3f7192b8"
      },
      "execution_count": 82,
      "outputs": [
        {
          "output_type": "stream",
          "name": "stdout",
          "text": [
            "7/7 [==============================] - 1s 15ms/step\n"
          ]
        }
      ]
    },
    {
      "cell_type": "code",
      "source": [
        "plt.plot(test_set, color='red', label='Real Google Stock Price')\n",
        "plt.plot(predicted_stock_price, color='blue', label='Predicted Google Stock Price')\n",
        "plt.title('Google Stock Price Prediction')\n",
        "plt.xlabel('Time')\n",
        "plt.ylabel('Google Stock Price')\n",
        "plt.legend()\n",
        "plt.show()"
      ],
      "metadata": {
        "colab": {
          "base_uri": "https://localhost:8080/",
          "height": 508
        },
        "id": "IppqRzffzAJ6",
        "outputId": "698e0ab3-7097-4998-b4f4-05fdf37b5315"
      },
      "execution_count": 83,
      "outputs": [
        {
          "output_type": "display_data",
          "data": {
            "text/plain": [
              "<Figure size 640x480 with 1 Axes>"
            ],
            "image/png": "[encoded data removed]"
          },
          "metadata": {}
        }
      ]
    },
    {
      "cell_type": "code",
      "source": [
        "real_stock_price = test_set\n",
        "inputs = real_stock_price\n",
        "inputs = sc.transform(test_set)                   # feature scaling\n",
        "inputs = np.reshape(inputs, (220, 1, 1))           # reshape the data\n",
        "predicted_stock_price = model.predict(inputs)     # prediction"
      ],
      "metadata": {
        "colab": {
          "base_uri": "https://localhost:8080/"
        },
        "id": "lXoSfzFBzNHD",
        "outputId": "3d393959-6cf1-4b38-d82d-2fa2b82b646d"
      },
      "execution_count": 89,
      "outputs": [
        {
          "output_type": "stream",
          "name": "stdout",
          "text": [
            "7/7 [==============================] - 0s 2ms/step\n"
          ]
        }
      ]
    }
  ]
}