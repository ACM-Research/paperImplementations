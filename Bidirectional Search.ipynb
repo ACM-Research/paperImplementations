{
 "cells": [
  {
   "cell_type": "code",
   "execution_count": 14,
   "id": "9be2570e-16ce-4b56-a1fb-65cca5522c6c",
   "metadata": {},
   "outputs": [],
   "source": [
    "from collections import deque\n",
    "\n",
    "def bidirectional_search(graph, start, goal):\n",
    "    if start == goal:\n",
    "        return [start]\n",
    "\n",
    "    # Initialize BFS queues\n",
    "    forward_queue = deque([start])\n",
    "    backward_queue = deque([goal])\n",
    "    print(forward_queue)\n",
    "    print(backward_queue)\n",
    "    # Initialize visited dictionaries\n",
    "    forward_visited = {start: None}\n",
    "    backward_visited = {goal: None}\n",
    "    print(forward_visited)\n",
    "    print(backward_visited)\n",
    "\n",
    "    def bfs_step(queue, visited_from_this_side, visited_from_other_side):\n",
    "        current = queue.popleft()\n",
    "        print(current)\n",
    "        for neighbor in graph[current]:\n",
    "            if neighbor not in visited_from_this_side:\n",
    "                queue.append(neighbor)\n",
    "                visited_from_this_side[neighbor] = current\n",
    "                if neighbor in visited_from_other_side:\n",
    "                    return neighbor\n",
    "        return None\n",
    "\n",
    "    while forward_queue and backward_queue:\n",
    "        # Step the BFS from the start side\n",
    "        meet_node = bfs_step(forward_queue, forward_visited, backward_visited)\n",
    "        if meet_node:\n",
    "            return reconstruct_path(forward_visited, backward_visited, meet_node)\n",
    "\n",
    "        # Step the BFS from the goal side\n",
    "        meet_node = bfs_step(backward_queue, backward_visited, forward_visited)\n",
    "        if meet_node:\n",
    "            return reconstruct_path(forward_visited, backward_visited, meet_node)\n",
    "\n",
    "    return None  # No path found"
   ]
  },
  {
   "cell_type": "code",
   "execution_count": 15,
   "id": "8ac94218-a812-4166-a205-8af5f10486bc",
   "metadata": {},
   "outputs": [],
   "source": [
    "def reconstruct_path(forward_visited, backward_visited, meet_node):\n",
    "    # Reconstruct the forward path from start to meet_node\n",
    "    path = []\n",
    "    node = meet_node\n",
    "    while node is not None:\n",
    "        path.append(node)\n",
    "        node = forward_visited[node]\n",
    "    path.reverse()  # Reverse the path to get the correct order\n",
    "\n",
    "    # Reconstruct the backward path from meet_node to goal\n",
    "    node = backward_visited[meet_node]\n",
    "    while node is not None:\n",
    "        path.append(node)\n",
    "        node = backward_visited[node]\n",
    "\n",
    "    return path"
   ]
  },
  {
   "cell_type": "code",
   "execution_count": 16,
   "id": "7c6ebce0-7aa5-4dc2-9e69-3725c66790f3",
   "metadata": {},
   "outputs": [
    {
     "name": "stdout",
     "output_type": "stream",
     "text": [
      "deque(['A'])\n",
      "deque(['F'])\n",
      "{'A': None}\n",
      "{'F': None}\n",
      "A\n",
      "F\n",
      "Path from A to F: ['A', 'C', 'F']\n"
     ]
    }
   ],
   "source": [
    "# Example usage\n",
    "if __name__ == \"__main__\":\n",
    "    graph = {\n",
    "        'A': ['B', 'C'],\n",
    "        'B': ['A', 'D', 'E'],\n",
    "        'C': ['A', 'F'],\n",
    "        'D': ['B'],\n",
    "        'E': ['B', 'F'],\n",
    "        'F': ['C', 'E']\n",
    "    }\n",
    "    start = 'A'\n",
    "    goal = 'F'\n",
    "    path = bidirectional_search(graph, start, goal)\n",
    "    print(\"Path from {} to {}: {}\".format(start, goal, path))"
   ]
  },
  {
   "cell_type": "code",
   "execution_count": null,
   "id": "92c9ef03-320f-4aed-8fd5-ff3bc8449beb",
   "metadata": {},
   "outputs": [],
   "source": []
  }
 ],
 "metadata": {
  "kernelspec": {
   "display_name": "Python 3 (ipykernel)",
   "language": "python",
   "name": "python3"
  },
  "language_info": {
   "codemirror_mode": {
    "name": "ipython",
    "version": 3
   },
   "file_extension": ".py",
   "mimetype": "text/x-python",
   "name": "python",
   "nbconvert_exporter": "python",
   "pygments_lexer": "ipython3",
   "version": "3.11.7"
  }
 },
 "nbformat": 4,
 "nbformat_minor": 5
}
